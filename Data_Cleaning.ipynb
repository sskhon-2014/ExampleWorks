{
 "cells": [
  {
   "cell_type": "markdown",
   "metadata": {},
   "source": [
    "# Preparing Diagnosis and Lab Test Data for multinomial naive bayes"
   ]
  },
  {
   "cell_type": "code",
   "execution_count": 9,
   "metadata": {},
   "outputs": [],
   "source": [
    "import pandas as pd\n",
    "import numpy as np\n",
    "import re\n",
    "from bs4 import BeautifulSoup\n",
    "from sklearn.feature_extraction.text import CountVectorizer, TfidfVectorizer\n",
    "from sklearn.cross_validation import train_test_split\n",
    "from sklearn.naive_bayes import MultinomialNB"
   ]
  },
  {
   "cell_type": "code",
   "execution_count": 10,
   "metadata": {},
   "outputs": [
    {
     "name": "stdout",
     "output_type": "stream",
     "text": [
      "(17062, 3)\n"
     ]
    },
    {
     "data": {
      "text/html": [
       "<div>\n",
       "<style>\n",
       "    .dataframe thead tr:only-child th {\n",
       "        text-align: right;\n",
       "    }\n",
       "\n",
       "    .dataframe thead th {\n",
       "        text-align: left;\n",
       "    }\n",
       "\n",
       "    .dataframe tbody tr th {\n",
       "        vertical-align: top;\n",
       "    }\n",
       "</style>\n",
       "<table border=\"1\" class=\"dataframe\">\n",
       "  <thead>\n",
       "    <tr style=\"text-align: right;\">\n",
       "      <th></th>\n",
       "      <th>Abstract</th>\n",
       "      <th>Article Title</th>\n",
       "      <th>Diagnosis</th>\n",
       "    </tr>\n",
       "  </thead>\n",
       "  <tbody>\n",
       "    <tr>\n",
       "      <th>0.0</th>\n",
       "      <td>To determine whether the repetition of the rap...</td>\n",
       "      <td>Repetition of the rapid antigen test in initia...</td>\n",
       "      <td>Group A Streptococcus (GAS) pharyngitis</td>\n",
       "    </tr>\n",
       "    <tr>\n",
       "      <th>1.0</th>\n",
       "      <td>To determine whether the repetition of the rap...</td>\n",
       "      <td>Repetition of the rapid antigen test in initia...</td>\n",
       "      <td>Group A Streptococcus (GAS) pharyngitis</td>\n",
       "    </tr>\n",
       "    <tr>\n",
       "      <th>2.0</th>\n",
       "      <td>Helicobacter pylori infection can be detected ...</td>\n",
       "      <td>Evaluation of Pyloriset Screen, a rapid whole-...</td>\n",
       "      <td>H.pylori Infection</td>\n",
       "    </tr>\n",
       "    <tr>\n",
       "      <th>3.0</th>\n",
       "      <td>Helicobacter pylori infection can be detected ...</td>\n",
       "      <td>Evaluation of Pyloriset Screen, a rapid whole-...</td>\n",
       "      <td>H.pylori Infection</td>\n",
       "    </tr>\n",
       "    <tr>\n",
       "      <th>4.0</th>\n",
       "      <td>There is some debate over the clinical utility...</td>\n",
       "      <td>Measuring thyroglobulin autoantibodies by sens...</td>\n",
       "      <td>Hashimoto thyroiditis</td>\n",
       "    </tr>\n",
       "  </tbody>\n",
       "</table>\n",
       "</div>"
      ],
      "text/plain": [
       "                                              Abstract  \\\n",
       "0.0  To determine whether the repetition of the rap...   \n",
       "1.0  To determine whether the repetition of the rap...   \n",
       "2.0  Helicobacter pylori infection can be detected ...   \n",
       "3.0  Helicobacter pylori infection can be detected ...   \n",
       "4.0  There is some debate over the clinical utility...   \n",
       "\n",
       "                                         Article Title  \\\n",
       "0.0  Repetition of the rapid antigen test in initia...   \n",
       "1.0  Repetition of the rapid antigen test in initia...   \n",
       "2.0  Evaluation of Pyloriset Screen, a rapid whole-...   \n",
       "3.0  Evaluation of Pyloriset Screen, a rapid whole-...   \n",
       "4.0  Measuring thyroglobulin autoantibodies by sens...   \n",
       "\n",
       "                                   Diagnosis  \n",
       "0.0  Group A Streptococcus (GAS) pharyngitis  \n",
       "1.0  Group A Streptococcus (GAS) pharyngitis  \n",
       "2.0                       H.pylori Infection  \n",
       "3.0                       H.pylori Infection  \n",
       "4.0                    Hashimoto thyroiditis  "
      ]
     },
     "execution_count": 10,
     "metadata": {},
     "output_type": "execute_result"
    }
   ],
   "source": [
    "lbl_df = pd.read_excel('labelled_db.xlsx')\n",
    "dx_df = lbl_df[[\"Abstract\", \"Article Title\", \"Diagnosis\"]]\n",
    "lt_df = lbl_df[[\"Abstract\", \"Article Title\", \"Lab Name\"]]\n",
    "lt_df = lt_df.fillna(\"0\")\n",
    "\n",
    "print(dx_df.shape)\n",
    "dx_df.head()"
   ]
  },
  {
   "cell_type": "code",
   "execution_count": 11,
   "metadata": {},
   "outputs": [
    {
     "name": "stdout",
     "output_type": "stream",
     "text": [
      "(17062, 3)\n"
     ]
    },
    {
     "data": {
      "text/html": [
       "<div>\n",
       "<style>\n",
       "    .dataframe thead tr:only-child th {\n",
       "        text-align: right;\n",
       "    }\n",
       "\n",
       "    .dataframe thead th {\n",
       "        text-align: left;\n",
       "    }\n",
       "\n",
       "    .dataframe tbody tr th {\n",
       "        vertical-align: top;\n",
       "    }\n",
       "</style>\n",
       "<table border=\"1\" class=\"dataframe\">\n",
       "  <thead>\n",
       "    <tr style=\"text-align: right;\">\n",
       "      <th></th>\n",
       "      <th>Abstract</th>\n",
       "      <th>Article Title</th>\n",
       "      <th>Lab Name</th>\n",
       "    </tr>\n",
       "  </thead>\n",
       "  <tbody>\n",
       "    <tr>\n",
       "      <th>0</th>\n",
       "      <td>To determine whether the repetition of the rap...</td>\n",
       "      <td>Repetition of the rapid antigen test in initia...</td>\n",
       "      <td>Strep Pyogenes Rapid Ag</td>\n",
       "    </tr>\n",
       "    <tr>\n",
       "      <th>1</th>\n",
       "      <td>To determine whether the repetition of the rap...</td>\n",
       "      <td>Repetition of the rapid antigen test in initia...</td>\n",
       "      <td>Glucose, synovial fluid (decreased)</td>\n",
       "    </tr>\n",
       "    <tr>\n",
       "      <th>2</th>\n",
       "      <td>Helicobacter pylori infection can be detected ...</td>\n",
       "      <td>Evaluation of Pyloriset Screen, a rapid whole-...</td>\n",
       "      <td>Erythrocyte sedimentation rate (increased)</td>\n",
       "    </tr>\n",
       "    <tr>\n",
       "      <th>3</th>\n",
       "      <td>Helicobacter pylori infection can be detected ...</td>\n",
       "      <td>Evaluation of Pyloriset Screen, a rapid whole-...</td>\n",
       "      <td>Lactate Dehydrogenase, synovial fluid (increas...</td>\n",
       "    </tr>\n",
       "    <tr>\n",
       "      <th>4</th>\n",
       "      <td>There is some debate over the clinical utility...</td>\n",
       "      <td>Measuring thyroglobulin autoantibodies by sens...</td>\n",
       "      <td>WBC (increased, &gt; 10000/uL)</td>\n",
       "    </tr>\n",
       "  </tbody>\n",
       "</table>\n",
       "</div>"
      ],
      "text/plain": [
       "                                            Abstract  \\\n",
       "0  To determine whether the repetition of the rap...   \n",
       "1  To determine whether the repetition of the rap...   \n",
       "2  Helicobacter pylori infection can be detected ...   \n",
       "3  Helicobacter pylori infection can be detected ...   \n",
       "4  There is some debate over the clinical utility...   \n",
       "\n",
       "                                       Article Title  \\\n",
       "0  Repetition of the rapid antigen test in initia...   \n",
       "1  Repetition of the rapid antigen test in initia...   \n",
       "2  Evaluation of Pyloriset Screen, a rapid whole-...   \n",
       "3  Evaluation of Pyloriset Screen, a rapid whole-...   \n",
       "4  Measuring thyroglobulin autoantibodies by sens...   \n",
       "\n",
       "                                            Lab Name  \n",
       "0                            Strep Pyogenes Rapid Ag  \n",
       "1                Glucose, synovial fluid (decreased)  \n",
       "2         Erythrocyte sedimentation rate (increased)  \n",
       "3  Lactate Dehydrogenase, synovial fluid (increas...  \n",
       "4                        WBC (increased, > 10000/uL)  "
      ]
     },
     "execution_count": 11,
     "metadata": {},
     "output_type": "execute_result"
    }
   ],
   "source": [
    "lt_df = lt_df[~(lt_df['Lab Name'] == \"0\")]\n",
    "lt_df = lt_df.reset_index(drop=True)\n",
    "\n",
    "print(lt_df.shape)\n",
    "lt_df.head()"
   ]
  },
  {
   "cell_type": "code",
   "execution_count": 12,
   "metadata": {},
   "outputs": [
    {
     "name": "stdout",
     "output_type": "stream",
     "text": [
      "['Rheumatism', 'Dyspepsia', 'Esophagitis', 'Hemiplegia', 'Dystocia', 'Thrombocytopenia', 'Meningismus', 'Myelofibrosis', 'Nonvisualization', 'Clostridium']\n"
     ]
    }
   ],
   "source": [
    "dx_html = open('dx_abstracts.html')\n",
    "dx_soup = BeautifulSoup(dx_html, 'lxml')\n",
    "\n",
    "dx_names = []\n",
    "for dx_name in open('dx_list.txt', 'r').readlines():\n",
    "    dx_names.append(dx_name.strip())\n",
    "\n",
    "print(dx_names[:10])"
   ]
  },
  {
   "cell_type": "code",
   "execution_count": 13,
   "metadata": {},
   "outputs": [
    {
     "data": {
      "text/plain": [
       "(27310, 3)"
      ]
     },
     "execution_count": 13,
     "metadata": {},
     "output_type": "execute_result"
    }
   ],
   "source": [
    "excluded_dxs = []\n",
    "for dx in dx_names:\n",
    "    # html tag ID's for BS4 identification\n",
    "    title_tag = dx + \"-Title\"\n",
    "    abstract_tag = dx + \"-Abstract\"\n",
    "    titles = [h3.text for h3 in dx_soup.find_all('h3', {'id': title_tag})]\n",
    "    abstracts = [p.text for p in dx_soup.find_all('p', {'id': abstract_tag})]\n",
    "    if len(titles) == len(abstracts) and len(titles) != 0:\n",
    "        name_ls = [dx for i in range(len(titles))]\n",
    "        dx_df = dx_df.append(pd.DataFrame({\"Article Title\": titles, \"Abstract\": abstracts, \"Diagnosis\": name_ls}), ignore_index=True)\n",
    "    else:\n",
    "        excluded_dxs.append(dx)\n",
    "        \n",
    "dx_df.shape"
   ]
  },
  {
   "cell_type": "code",
   "execution_count": 14,
   "metadata": {},
   "outputs": [
    {
     "name": "stdout",
     "output_type": "stream",
     "text": [
      "# of diagnoses: 1055\n",
      "# of diagnoses excluded: 1\n"
     ]
    }
   ],
   "source": [
    "unique_dxs = list(set(dx_df['Diagnosis']))\n",
    "dx_dict = dict(enumerate(unique_dxs))\n",
    "dx_dict = {v:k for k,v in dx_dict.items()}\n",
    "dx_df['DxID'] = dx_df['Diagnosis'].map(dx_dict)\n",
    "print(\"# of diagnoses: \" + str(len(unique_dxs)))\n",
    "print(\"# of diagnoses excluded: \" + str(len(excluded_dxs)))"
   ]
  },
  {
   "cell_type": "code",
   "execution_count": 15,
   "metadata": {},
   "outputs": [],
   "source": [
    "from pandas import ExcelWriter\n",
    "writer = ExcelWriter('dx_labelled.xlsx')\n",
    "dx_df.to_excel(writer, 'dx_labelled.xlsx')\n",
    "writer.save()"
   ]
  },
  {
   "cell_type": "code",
   "execution_count": null,
   "metadata": {},
   "outputs": [],
   "source": [
    "lt_html = open('lt_abstracts.html', encoding='ISO-8859-1')\n",
    "lt_soup = BeautifulSoup(lt_html, 'lxml')\n",
    "\n",
    "lt_names = []\n",
    "for lt_name in open('lt_list.txt', 'r').readlines():\n",
    "    lt_names.append(lt_name.strip())\n",
    "\n",
    "print(lt_names[:10])\n"
   ]
  },
  {
   "cell_type": "code",
   "execution_count": null,
   "metadata": {},
   "outputs": [],
   "source": [
    "excluded_lts = []\n",
    "for lt in lt_names:\n",
    "    # html tag ID's for BS4 identification\n",
    "    title_tag = lt + \"-Title\"\n",
    "    abstract_tag = lt + \"-Abstract\"\n",
    "    titles = [h3.text for h3 in lt_soup.find_all('h3', {'id': title_tag})]\n",
    "    abstracts = [p.text for p in lt_soup.find_all('p', {'id': abstract_tag})]\n",
    "    if len(titles) == len(abstracts) and len(titles) != 0:\n",
    "        name_ls = [lt for i in range(len(titles))]\n",
    "        lt_df = lt_df.append(pd.DataFrame({\"Article Title\": titles, \"Abstract\": abstracts, \"Lab Name\": name_ls}), ignore_index=True)\n",
    "    else:\n",
    "        excluded_lts.append(lt)\n",
    "        \n",
    "lt_df.shape"
   ]
  },
  {
   "cell_type": "code",
   "execution_count": null,
   "metadata": {},
   "outputs": [],
   "source": [
    "unique_lts = list(set(lt_df['Lab Name']))\n",
    "lt_dict = dict(enumerate(unique_lts))\n",
    "lt_dict = {v:k for k,v in lt_dict.items()}\n",
    "lt_df['LtID'] = lt_df['Lab Name'].map(lt_dict)\n",
    "print(\"# of lab tests: \" + str(len(unique_lts)))\n",
    "print(\"# of lab tests excluded: \" + str(len(excluded_lts)))"
   ]
  },
  {
   "cell_type": "code",
   "execution_count": null,
   "metadata": {},
   "outputs": [],
   "source": [
    "writer = ExcelWriter('CleanedData.xlsx')\n",
    "lt_df.to_excel(writer, 'CleanedData.xlsx')\n",
    "writer.save()"
   ]
  }
 ],
 "metadata": {
  "kernelspec": {
   "display_name": "Python 3",
   "language": "python",
   "name": "python3"
  },
  "language_info": {
   "codemirror_mode": {
    "name": "ipython",
    "version": 3
   },
   "file_extension": ".py",
   "mimetype": "text/x-python",
   "name": "python",
   "nbconvert_exporter": "python",
   "pygments_lexer": "ipython3",
   "version": "3.6.3"
  }
 },
 "nbformat": 4,
 "nbformat_minor": 2
}
